{
 "cells": [
  {
   "cell_type": "code",
   "execution_count": 18,
   "id": "987e948f-7a6c-452d-affa-d100b0a92bb5",
   "metadata": {},
   "outputs": [],
   "source": [
    "#!pip install osm2geojson"
   ]
  },
  {
   "cell_type": "code",
   "execution_count": 21,
   "id": "fb2fe72c-f8f5-475b-8d00-6cc87925c8de",
   "metadata": {},
   "outputs": [
    {
     "name": "stdout",
     "output_type": "stream",
     "text": [
      "⏳ Sending Overpass API request...\n",
      "🔄 Converting OSM to GeoJSON...\n",
      "🧼 Fixing invalid geometries...\n",
      "🔗 Merging geometries...\n"
     ]
    },
    {
     "name": "stderr",
     "output_type": "stream",
     "text": [
      "/Users/gabeiras3j/opt/anaconda3/envs/cleanproj/lib/python3.10/site-packages/shapely/set_operations.py:543: RuntimeWarning: invalid value encountered in create_collection\n",
      "  collections = lib.create_collection(\n"
     ]
    },
    {
     "name": "stdout",
     "output_type": "stream",
     "text": [
      "✅ Done! Merged 484071 buildings into 160762 shapes.\n",
      "📦 Saved to: paris_buildings_large_merged.gpkg\n"
     ]
    }
   ],
   "source": [
    "#full domain\n",
    "import requests\n",
    "import geopandas as gpd\n",
    "from shapely.geometry import MultiPolygon\n",
    "from shapely.ops import unary_union\n",
    "import osm2geojson  # pip install osm2geojson\n",
    "\n",
    "# Bounding box for the larger Paris area\n",
    "south, west = 48.783461, 2.197275\n",
    "north, east = 48.9291117, 2.4811851\n",
    "\n",
    "# Overpass query: includes both ways and relations\n",
    "overpass_url = \"https://overpass-api.de/api/interpreter\"\n",
    "query = f\"\"\"\n",
    "[out:json][timeout:180];\n",
    "(\n",
    "  way[\"building\"]({south},{west},{north},{east});\n",
    "  relation[\"building\"]({south},{west},{north},{east});\n",
    ");\n",
    "out body;\n",
    ">;\n",
    "out skel qt;\n",
    "\"\"\"\n",
    "\n",
    "# Send the request\n",
    "print(\"⏳ Sending Overpass API request...\")\n",
    "response = requests.get(overpass_url, params={\"data\": query})\n",
    "data = response.json()\n",
    "\n",
    "# Convert to valid GeoJSON (handles multipolygons properly)\n",
    "print(\"🔄 Converting OSM to GeoJSON...\")\n",
    "geojson = osm2geojson.json2geojson(data)\n",
    "\n",
    "# Load into GeoDataFrame\n",
    "gdf = gpd.GeoDataFrame.from_features(geojson[\"features\"])\n",
    "gdf.set_crs(\"EPSG:4326\", inplace=True)\n",
    "\n",
    "# Optional: Clean invalid geometries\n",
    "print(\"🧼 Fixing invalid geometries...\")\n",
    "gdf[\"geometry\"] = gdf[\"geometry\"].buffer(0)\n",
    "\n",
    "# Merge all overlapping/touching buildings\n",
    "print(\"🔗 Merging geometries...\")\n",
    "merged = unary_union(gdf[\"geometry\"])\n",
    "\n",
    "# Handle single vs multiple polygons\n",
    "if isinstance(merged, MultiPolygon):\n",
    "    merged_gdf = gpd.GeoDataFrame(geometry=list(merged.geoms), crs=gdf.crs)\n",
    "else:\n",
    "    merged_gdf = gpd.GeoDataFrame(geometry=[merged], crs=gdf.crs)\n",
    "\n",
    "# Save to file\n",
    "output_path = \"paris_buildings_large_merged.gpkg\"\n",
    "merged_gdf.to_file(output_path, driver=\"GPKG\")\n",
    "\n",
    "print(f\"✅ Done! Merged {len(gdf)} buildings into {len(merged_gdf)} shapes.\")\n",
    "print(f\"📦 Saved to: {output_path}\")\n"
   ]
  },
  {
   "cell_type": "code",
   "execution_count": 23,
   "id": "d11c62ee-8402-479f-8220-38632009bb1d",
   "metadata": {},
   "outputs": [
    {
     "name": "stdout",
     "output_type": "stream",
     "text": [
      "total 194320\n",
      "drwxr-xr-x    4 gabeiras3j  staff   128B Apr 22 10:28 \u001b[1m\u001b[36m__pycache__\u001b[m\u001b[m/\n",
      "drwxr-xr-x  288 gabeiras3j  staff   9.0K Apr 23 12:59 \u001b[1m\u001b[36mcache\u001b[m\u001b[m/\n",
      "-rw-r--r--    1 gabeiras3j  staff    44K Apr 16 10:04 downloaded_log.txt\n",
      "-rw-r--r--    1 gabeiras3j  staff    21K Apr 22 10:28 downloader_updated.py\n",
      "-rw-r--r--    1 gabeiras3j  staff   3.6M Apr 23 12:40 get_lidar_paris.ipynb\n",
      "-rw-r--r--    1 gabeiras3j  staff   727K Apr 23 12:40 get_lidar_paris_clean01-test01.ipynb\n",
      "-rw-r--r--    1 gabeiras3j  staff   714K Apr 23 12:40 get_lidar_paris_clean01.ipynb\n",
      "drwxr-xr-x    3 gabeiras3j  staff    96B Apr 22 10:23 \u001b[1m\u001b[36mglobus_utils\u001b[m\u001b[m/\n",
      "-rw-r--r--    1 gabeiras3j  staff   1.0M Apr 16 17:35 lambda_b_by_cell_Paris_MS.pkl\n",
      "-rw-r--r--    1 gabeiras3j  staff   201K Apr 16 17:15 lambda_b_updated_Paris.tif\n",
      "-rw-r--r--    1 gabeiras3j  staff   201K Apr 21 11:22 lambda_b_updated_Paris_lidar.tif\n",
      "-rw-r--r--    1 gabeiras3j  staff   196K Apr 21 09:32 lambda_b_updated_Paris_lidar.tif2nd\n",
      "-rw-r--r--    1 gabeiras3j  staff   181K Apr 21 11:47 lambda_b_updated_Paris_lidar.tiflidartest1\n",
      "-rw-r--r--@   1 gabeiras3j  staff    44K Apr 16 08:14 liste_dalle.txt\n",
      "drwxr-xr-x    4 gabeiras3j  staff   128B Apr 22 10:45 \u001b[1m\u001b[36mosm_data\u001b[m\u001b[m/\n",
      "drwxr-xr-x    5 gabeiras3j  staff   160B Apr 22 10:34 \u001b[1m\u001b[36mout_paris\u001b[m\u001b[m/\n",
      "drwxr-xr-x  674 gabeiras3j  staff    21K Apr 16 10:04 \u001b[1m\u001b[36moutput_tiffs\u001b[m\u001b[m/\n",
      "-rw-r--r--    1 gabeiras3j  staff   904K Apr 23 13:01 paris_buildings_fast.gpkg\n",
      "-rw-r--r--    1 gabeiras3j  staff    32K Apr 23 13:01 paris_buildings_fast.gpkg-shm\n",
      "-rw-r--r--    1 gabeiras3j  staff   2.2M Apr 23 13:04 paris_buildings_fast.gpkg-wal\n",
      "-rw-r--r--    1 gabeiras3j  staff   632K Apr 23 13:13 paris_buildings_fast_merged.gpkg\n",
      "-rw-r--r--    1 gabeiras3j  staff    32K Apr 23 13:13 paris_buildings_fast_merged.gpkg-shm\n",
      "-rw-r--r--    1 gabeiras3j  staff     0B Apr 23 13:13 paris_buildings_fast_merged.gpkg-wal\n",
      "-rw-r--r--    1 gabeiras3j  staff    83M Apr 23 13:26 paris_buildings_large_merged.gpkg\n",
      "-rw-r--r--    1 gabeiras3j  staff   732K Apr 23 13:13 paris_buildings_merged.gpkg\n",
      "-rw-r--r--    1 gabeiras3j  staff    32K Apr 23 13:13 paris_buildings_merged.gpkg-shm\n",
      "-rw-r--r--    1 gabeiras3j  staff     0B Apr 23 13:13 paris_buildings_merged.gpkg-wal\n",
      "drwxr-xr-x    3 gabeiras3j  staff    96B Apr 16 10:04 \u001b[1m\u001b[36mtemp_lidar_data\u001b[m\u001b[m/\n",
      "-rw-r--r--    1 gabeiras3j  staff   103K Apr 23 12:40 test_globus_download.ipynb\n",
      "-rw-r--r--    1 gabeiras3j  staff    29K Apr 23 13:26 test_osm.ipynb\n"
     ]
    }
   ],
   "source": [
    "ll -h"
   ]
  },
  {
   "cell_type": "code",
   "execution_count": 19,
   "id": "c2097dc2-c623-414c-9193-d7886de06676",
   "metadata": {},
   "outputs": [
    {
     "name": "stdout",
     "output_type": "stream",
     "text": [
      "✅ Merged 2789 buildings into 261 merged shapes.\n"
     ]
    }
   ],
   "source": [
    "import requests\n",
    "import geopandas as gpd\n",
    "from shapely.geometry import MultiPolygon\n",
    "from shapely.ops import unary_union\n",
    "import osm2geojson  # pip install osm2geojson\n",
    "\n",
    "# Overpass query: includes ways and relations\n",
    "overpass_url = \"https://overpass-api.de/api/interpreter\"\n",
    "query = \"\"\"\n",
    "[out:json][timeout:25];\n",
    "(\n",
    "  way[\"building\"](48.8519,2.3266,48.8659,2.3449);\n",
    "  relation[\"building\"](48.8519,2.3266,48.8659,2.3449);\n",
    ");\n",
    "out body;\n",
    ">;\n",
    "out skel qt;\n",
    "\"\"\"\n",
    "\n",
    "# Send request\n",
    "response = requests.get(overpass_url, params={\"data\": query})\n",
    "data = response.json()\n",
    "\n",
    "# Convert to GeoJSON\n",
    "geojson = osm2geojson.json2geojson(data)\n",
    "\n",
    "# Load into GeoDataFrame\n",
    "gdf = gpd.GeoDataFrame.from_features(geojson[\"features\"])\n",
    "gdf.set_crs(\"EPSG:4326\", inplace=True)\n",
    "\n",
    "# Optional: Clean invalid geometries\n",
    "gdf[\"geometry\"] = gdf[\"geometry\"].buffer(0)\n",
    "\n",
    "# Merge all touching/overlapping buildings\n",
    "merged = unary_union(gdf[\"geometry\"])\n",
    "\n",
    "# Handle result: single or multi geometry\n",
    "if isinstance(merged, MultiPolygon):\n",
    "    merged_gdf = gpd.GeoDataFrame(geometry=[geom for geom in merged.geoms], crs=gdf.crs)\n",
    "else:\n",
    "    merged_gdf = gpd.GeoDataFrame(geometry=[merged], crs=gdf.crs)\n",
    "\n",
    "# Save to GeoPackage\n",
    "merged_gdf.to_file(\"paris_buildings_merged.gpkg\", driver=\"GPKG\")\n",
    "print(f\"✅ Merged {len(gdf)} buildings into {len(merged_gdf)} merged shapes.\")\n"
   ]
  },
  {
   "cell_type": "code",
   "execution_count": 14,
   "id": "681448c9-2385-421d-bfd9-02f1f5aaf97f",
   "metadata": {},
   "outputs": [
    {
     "ename": "ModuleNotFoundError",
     "evalue": "No module named 'osm2geojson'",
     "output_type": "error",
     "traceback": [
      "\u001b[0;31m---------------------------------------------------------------------------\u001b[0m",
      "\u001b[0;31mModuleNotFoundError\u001b[0m                       Traceback (most recent call last)",
      "Cell \u001b[0;32mIn[14], line 4\u001b[0m\n\u001b[1;32m      2\u001b[0m \u001b[38;5;28;01mimport\u001b[39;00m\u001b[38;5;250m \u001b[39m\u001b[38;5;21;01mgeopandas\u001b[39;00m\u001b[38;5;250m \u001b[39m\u001b[38;5;28;01mas\u001b[39;00m\u001b[38;5;250m \u001b[39m\u001b[38;5;21;01mgpd\u001b[39;00m\n\u001b[1;32m      3\u001b[0m \u001b[38;5;28;01mfrom\u001b[39;00m\u001b[38;5;250m \u001b[39m\u001b[38;5;21;01mshapely\u001b[39;00m\u001b[38;5;21;01m.\u001b[39;00m\u001b[38;5;21;01mgeometry\u001b[39;00m\u001b[38;5;250m \u001b[39m\u001b[38;5;28;01mimport\u001b[39;00m shape\n\u001b[0;32m----> 4\u001b[0m \u001b[38;5;28;01mimport\u001b[39;00m\u001b[38;5;250m \u001b[39m\u001b[38;5;21;01mosm2geojson\u001b[39;00m  \u001b[38;5;66;03m# pip install osm2geojson\u001b[39;00m\n\u001b[1;32m      6\u001b[0m \u001b[38;5;66;03m# Overpass query: includes all building geometries\u001b[39;00m\n\u001b[1;32m      7\u001b[0m overpass_url \u001b[38;5;241m=\u001b[39m \u001b[38;5;124m\"\u001b[39m\u001b[38;5;124mhttps://overpass-api.de/api/interpreter\u001b[39m\u001b[38;5;124m\"\u001b[39m\n",
      "\u001b[0;31mModuleNotFoundError\u001b[0m: No module named 'osm2geojson'"
     ]
    }
   ],
   "source": [
    "import requests\n",
    "import geopandas as gpd\n",
    "from shapely.geometry import shape\n",
    "import osm2geojson  # pip install osm2geojson\n",
    "\n",
    "# Overpass query: includes all building geometries\n",
    "overpass_url = \"https://overpass-api.de/api/interpreter\"\n",
    "query = \"\"\"\n",
    "[out:json][timeout:25];\n",
    "(\n",
    "  way[\"building\"](48.8519,2.3266,48.8659,2.3449);\n",
    "  relation[\"building\"](48.8519,2.3266,48.8659,2.3449);\n",
    ");\n",
    "out body;\n",
    ">;\n",
    "out skel qt;\n",
    "\"\"\"\n",
    "\n",
    "# Fetch data\n",
    "response = requests.get(overpass_url, params={\"data\": query})\n",
    "data = response.json()\n",
    "\n",
    "# Convert to GeoJSON (handles relations properly)\n",
    "geojson = osm2geojson.json2geojson(data)\n",
    "\n",
    "# Create GeoDataFrame\n",
    "gdf = gpd.GeoDataFrame.from_features(geojson[\"features\"])\n",
    "gdf.set_crs(\"EPSG:4326\", inplace=True)\n",
    "\n",
    "# Merge all geometries into one MultiPolygon\n",
    "gdf_merged = gdf.dissolve()\n",
    "\n",
    "# Save\n",
    "gdf_merged.to_file(\"paris_buildings_merged.gpkg\", driver=\"GPKG\")\n",
    "print(\"✅ Done! Saved merged building geometry.\")\n"
   ]
  },
  {
   "cell_type": "code",
   "execution_count": 16,
   "id": "1af6ae25-f2ef-4bfe-a792-2b4174c7a398",
   "metadata": {},
   "outputs": [
    {
     "name": "stderr",
     "output_type": "stream",
     "text": [
      "/var/folders/mm/04w0hy711n93_t1jwlzttfg00000gp/T/ipykernel_45696/2497019050.py:46: DeprecationWarning: The 'unary_union' attribute is deprecated, use the 'union_all()' method instead.\n",
      "  merged = gdf.unary_union  # returns a single MultiPolygon or Polygon\n"
     ]
    },
    {
     "name": "stdout",
     "output_type": "stream",
     "text": [
      "✅ Done! Like Overpass Turbo, but in Python.\n"
     ]
    }
   ],
   "source": [
    "import requests\n",
    "import geopandas as gpd\n",
    "from shapely.geometry import shape\n",
    "from shapely.geometry import MultiPolygon\n",
    "\n",
    "# Overpass Turbo-style query\n",
    "overpass_url = \"https://overpass-api.de/api/interpreter\"\n",
    "query = \"\"\"\n",
    "[out:json][timeout:25];\n",
    "(\n",
    "  way[\"building\"](48.8519,2.3266,48.8659,2.3449);\n",
    "  relation[\"building\"](48.8519,2.3266,48.8659,2.3449);\n",
    ");\n",
    "out body;\n",
    ">;\n",
    "out skel qt;\n",
    "\"\"\"\n",
    "\n",
    "\n",
    "# Send request\n",
    "response = requests.get(overpass_url, params={\"data\": query})\n",
    "data = response.json()\n",
    "\n",
    "# Convert to GeoDataFrame\n",
    "elements = data['elements']\n",
    "nodes = {el['id']: (el['lon'], el['lat']) for el in elements if el['type'] == 'node'}\n",
    "\n",
    "features = []\n",
    "for el in elements:\n",
    "    if el['type'] == 'way' and 'nodes' in el:\n",
    "        coords = [nodes[nid] for nid in el['nodes'] if nid in nodes]\n",
    "        if len(coords) >= 3:\n",
    "            try:\n",
    "                features.append(shape({\"type\": \"Polygon\", \"coordinates\": [coords]}))\n",
    "            except Exception:\n",
    "                pass\n",
    "\n",
    "\n",
    "gdf = gpd.GeoDataFrame(geometry=features, crs=\"EPSG:4326\")\n",
    "\n",
    "\n",
    "# Optional: clean geometries (fix invalid ones)\n",
    "gdf[\"geometry\"] = gdf[\"geometry\"].buffer(0)\n",
    "\n",
    "# Merge all touching (adjacent or overlapping) buildings\n",
    "merged = gdf.unary_union  # returns a single MultiPolygon or Polygon\n",
    "\n",
    "# If result is a MultiPolygon, turn it into separate rows\n",
    "if isinstance(merged, MultiPolygon):\n",
    "    merged_gdf = gpd.GeoDataFrame(geometry=[geom for geom in merged.geoms], crs=gdf.crs)\n",
    "else:\n",
    "    merged_gdf = gpd.GeoDataFrame(geometry=[merged], crs=gdf.crs)\n",
    "\n",
    "\n",
    "merged_gdf.to_file(\"paris_buildings_fast_merged.gpkg\", driver=\"GPKG\")\n",
    "print(\"✅ Done! Like Overpass Turbo, but in Python.\")\n"
   ]
  },
  {
   "cell_type": "code",
   "execution_count": 13,
   "id": "8413e3a2-6a1a-4c6f-8b9b-d55333275e26",
   "metadata": {},
   "outputs": [
    {
     "name": "stdout",
     "output_type": "stream",
     "text": [
      "✅ Done! Like Overpass Turbo, but in Python.\n"
     ]
    }
   ],
   "source": [
    "import requests\n",
    "import geopandas as gpd\n",
    "from shapely.geometry import shape\n",
    "\n",
    "# Overpass Turbo-style query\n",
    "overpass_url = \"https://overpass-api.de/api/interpreter\"\n",
    "query = \"\"\"\n",
    "[out:json][timeout:25];\n",
    "(\n",
    "  way[\"building\"](48.8519,2.3266,48.8659,2.3449);\n",
    "  relation[\"building\"](48.8519,2.3266,48.8659,2.3449);\n",
    ");\n",
    "out body;\n",
    ">;\n",
    "out skel qt;\n",
    "\"\"\"\n",
    "\n",
    "\n",
    "# Send request\n",
    "response = requests.get(overpass_url, params={\"data\": query})\n",
    "data = response.json()\n",
    "\n",
    "# Convert to GeoDataFrame\n",
    "elements = data['elements']\n",
    "nodes = {el['id']: (el['lon'], el['lat']) for el in elements if el['type'] == 'node'}\n",
    "\n",
    "features = []\n",
    "for el in elements:\n",
    "    if el['type'] == 'way' and 'nodes' in el:\n",
    "        coords = [nodes[nid] for nid in el['nodes'] if nid in nodes]\n",
    "        if len(coords) >= 3:\n",
    "            try:\n",
    "                features.append(shape({\"type\": \"Polygon\", \"coordinates\": [coords]}))\n",
    "            except Exception:\n",
    "                pass\n",
    "\n",
    "gdf = gpd.GeoDataFrame(geometry=features, crs=\"EPSG:4326\")\n",
    "gdf.to_file(\"paris_buildings_fast.gpkg\", driver=\"GPKG\")\n",
    "print(\"✅ Done! Like Overpass Turbo, but in Python.\")\n"
   ]
  },
  {
   "cell_type": "code",
   "execution_count": 11,
   "id": "43303552-9a85-4df1-b6a1-675236440355",
   "metadata": {},
   "outputs": [
    {
     "name": "stderr",
     "output_type": "stream",
     "text": [
      "Latitude tiles:   0%|                                    | 0/14 [00:00<?, ?it/s]/Users/gabeiras3j/opt/anaconda3/envs/cleanproj/lib/python3.10/site-packages/osmnx/_overpass.py:267: UserWarning: This area is 9,417 times your configured Overpass max query area size. It will automatically be divided up into multiple sub-queries accordingly. This may take a long time.\n",
      "  multi_poly_proj = utils_geo._consolidate_subdivide_geometry(poly_proj)\n",
      "Latitude tiles:   0%|                                    | 0/14 [03:41<?, ?it/s]\n"
     ]
    },
    {
     "ename": "KeyboardInterrupt",
     "evalue": "",
     "output_type": "error",
     "traceback": [
      "\u001b[0;31m---------------------------------------------------------------------------\u001b[0m",
      "\u001b[0;31mKeyboardInterrupt\u001b[0m                         Traceback (most recent call last)",
      "Cell \u001b[0;32mIn[11], line 32\u001b[0m\n\u001b[1;32m     30\u001b[0m bbox \u001b[38;5;241m=\u001b[39m (lat \u001b[38;5;241m+\u001b[39m step, lat, lon \u001b[38;5;241m+\u001b[39m step, lon)\n\u001b[1;32m     31\u001b[0m \u001b[38;5;28;01mtry\u001b[39;00m:\n\u001b[0;32m---> 32\u001b[0m     gdf \u001b[38;5;241m=\u001b[39m \u001b[43mox\u001b[49m\u001b[38;5;241;43m.\u001b[39;49m\u001b[43mfeatures_from_bbox\u001b[49m\u001b[43m(\u001b[49m\u001b[43mbbox\u001b[49m\u001b[38;5;241;43m=\u001b[39;49m\u001b[43mbbox\u001b[49m\u001b[43m,\u001b[49m\u001b[43m \u001b[49m\u001b[43mtags\u001b[49m\u001b[38;5;241;43m=\u001b[39;49m\u001b[43m{\u001b[49m\u001b[38;5;124;43m\"\u001b[39;49m\u001b[38;5;124;43mbuilding\u001b[39;49m\u001b[38;5;124;43m\"\u001b[39;49m\u001b[43m:\u001b[49m\u001b[43m \u001b[49m\u001b[38;5;28;43;01mTrue\u001b[39;49;00m\u001b[43m}\u001b[49m\u001b[43m)\u001b[49m\n\u001b[1;32m     33\u001b[0m     \u001b[38;5;28;01mif\u001b[39;00m \u001b[38;5;129;01mnot\u001b[39;00m gdf\u001b[38;5;241m.\u001b[39mempty:\n\u001b[1;32m     34\u001b[0m         all_buildings\u001b[38;5;241m.\u001b[39mappend(gdf)\n",
      "File \u001b[0;32m~/opt/anaconda3/envs/cleanproj/lib/python3.10/site-packages/osmnx/features.py:130\u001b[0m, in \u001b[0;36mfeatures_from_bbox\u001b[0;34m(bbox, tags)\u001b[0m\n\u001b[1;32m    128\u001b[0m \u001b[38;5;66;03m# convert bbox to polygon then create GeoDataFrame of features within it\u001b[39;00m\n\u001b[1;32m    129\u001b[0m polygon \u001b[38;5;241m=\u001b[39m utils_geo\u001b[38;5;241m.\u001b[39mbbox_to_poly(bbox)\n\u001b[0;32m--> 130\u001b[0m \u001b[38;5;28;01mreturn\u001b[39;00m \u001b[43mfeatures_from_polygon\u001b[49m\u001b[43m(\u001b[49m\u001b[43mpolygon\u001b[49m\u001b[43m,\u001b[49m\u001b[43m \u001b[49m\u001b[43mtags\u001b[49m\u001b[43m)\u001b[49m\n",
      "File \u001b[0;32m~/opt/anaconda3/envs/cleanproj/lib/python3.10/site-packages/osmnx/features.py:332\u001b[0m, in \u001b[0;36mfeatures_from_polygon\u001b[0;34m(polygon, tags)\u001b[0m\n\u001b[1;32m    330\u001b[0m \u001b[38;5;66;03m# retrieve the data from Overpass then turn it into a GeoDataFrame\u001b[39;00m\n\u001b[1;32m    331\u001b[0m response_jsons \u001b[38;5;241m=\u001b[39m _overpass\u001b[38;5;241m.\u001b[39m_download_overpass_features(polygon, tags)\n\u001b[0;32m--> 332\u001b[0m \u001b[38;5;28;01mreturn\u001b[39;00m \u001b[43m_create_gdf\u001b[49m\u001b[43m(\u001b[49m\u001b[43mresponse_jsons\u001b[49m\u001b[43m,\u001b[49m\u001b[43m \u001b[49m\u001b[43mpolygon\u001b[49m\u001b[43m,\u001b[49m\u001b[43m \u001b[49m\u001b[43mtags\u001b[49m\u001b[43m)\u001b[49m\n",
      "File \u001b[0;32m~/opt/anaconda3/envs/cleanproj/lib/python3.10/site-packages/osmnx/features.py:406\u001b[0m, in \u001b[0;36m_create_gdf\u001b[0;34m(response_jsons, polygon, tags)\u001b[0m\n\u001b[1;32m    404\u001b[0m elements \u001b[38;5;241m=\u001b[39m []\n\u001b[1;32m    405\u001b[0m response_count \u001b[38;5;241m=\u001b[39m \u001b[38;5;241m0\u001b[39m\n\u001b[0;32m--> 406\u001b[0m \u001b[38;5;28;01mfor\u001b[39;00m response_json \u001b[38;5;129;01min\u001b[39;00m response_jsons:\n\u001b[1;32m    407\u001b[0m     response_count \u001b[38;5;241m+\u001b[39m\u001b[38;5;241m=\u001b[39m \u001b[38;5;241m1\u001b[39m\n\u001b[1;32m    408\u001b[0m     \u001b[38;5;28;01mif\u001b[39;00m \u001b[38;5;129;01mnot\u001b[39;00m settings\u001b[38;5;241m.\u001b[39mcache_only_mode:\n",
      "File \u001b[0;32m~/opt/anaconda3/envs/cleanproj/lib/python3.10/site-packages/osmnx/_overpass.py:428\u001b[0m, in \u001b[0;36m_download_overpass_features\u001b[0;34m(polygon, tags)\u001b[0m\n\u001b[1;32m    426\u001b[0m \u001b[38;5;28;01mfor\u001b[39;00m polygon_coord_str \u001b[38;5;129;01min\u001b[39;00m polygon_coord_strs:\n\u001b[1;32m    427\u001b[0m     query_str \u001b[38;5;241m=\u001b[39m _create_overpass_features_query(polygon_coord_str, tags)\n\u001b[0;32m--> 428\u001b[0m     \u001b[38;5;28;01myield\u001b[39;00m \u001b[43m_overpass_request\u001b[49m\u001b[43m(\u001b[49m\u001b[43mOrderedDict\u001b[49m\u001b[43m(\u001b[49m\u001b[43mdata\u001b[49m\u001b[38;5;241;43m=\u001b[39;49m\u001b[43mquery_str\u001b[49m\u001b[43m)\u001b[49m\u001b[43m)\u001b[49m\n",
      "File \u001b[0;32m~/opt/anaconda3/envs/cleanproj/lib/python3.10/site-packages/osmnx/_overpass.py:460\u001b[0m, in \u001b[0;36m_overpass_request\u001b[0;34m(data)\u001b[0m\n\u001b[1;32m    458\u001b[0m msg \u001b[38;5;241m=\u001b[39m \u001b[38;5;124mf\u001b[39m\u001b[38;5;124m\"\u001b[39m\u001b[38;5;124mPausing \u001b[39m\u001b[38;5;132;01m{\u001b[39;00mpause\u001b[38;5;132;01m}\u001b[39;00m\u001b[38;5;124m second(s) before making HTTP POST request to \u001b[39m\u001b[38;5;132;01m{\u001b[39;00mhostname\u001b[38;5;132;01m!r}\u001b[39;00m\u001b[38;5;124m\"\u001b[39m\n\u001b[1;32m    459\u001b[0m utils\u001b[38;5;241m.\u001b[39mlog(msg, level\u001b[38;5;241m=\u001b[39mlg\u001b[38;5;241m.\u001b[39mINFO)\n\u001b[0;32m--> 460\u001b[0m \u001b[43mtime\u001b[49m\u001b[38;5;241;43m.\u001b[39;49m\u001b[43msleep\u001b[49m\u001b[43m(\u001b[49m\u001b[43mpause\u001b[49m\u001b[43m)\u001b[49m\n\u001b[1;32m    462\u001b[0m \u001b[38;5;66;03m# transmit the HTTP POST request\u001b[39;00m\n\u001b[1;32m    463\u001b[0m msg \u001b[38;5;241m=\u001b[39m \u001b[38;5;124mf\u001b[39m\u001b[38;5;124m\"\u001b[39m\u001b[38;5;124mPost \u001b[39m\u001b[38;5;132;01m{\u001b[39;00mprepared_url\u001b[38;5;132;01m}\u001b[39;00m\u001b[38;5;124m with timeout=\u001b[39m\u001b[38;5;132;01m{\u001b[39;00msettings\u001b[38;5;241m.\u001b[39mrequests_timeout\u001b[38;5;132;01m}\u001b[39;00m\u001b[38;5;124m\"\u001b[39m\n",
      "\u001b[0;31mKeyboardInterrupt\u001b[0m: "
     ]
    }
   ],
   "source": [
    "import osmnx as ox\n",
    "import geopandas as gpd\n",
    "import numpy as np\n",
    "import pandas as pd\n",
    "from tqdm import tqdm\n",
    "\n",
    "# Settings\n",
    "ox.settings.log_console = False\n",
    "ox.settings.use_cache = True\n",
    "\n",
    "# Bounding box for Paris area\n",
    "north = 48.865924303683215\n",
    "south = 48.85196374476617\n",
    "west = 2.326650288914438\n",
    "east = 2.3448515182972\n",
    "\n",
    "# Tile size in degrees (smaller = more tiles, but safer)\n",
    "step = 0.001  # ~100 m at this latitude\n",
    "\n",
    "# Generate grid\n",
    "lats = np.arange(south, north, step)\n",
    "lons = np.arange(west, east, step)\n",
    "\n",
    "# Collect buildings\n",
    "all_buildings = []\n",
    "\n",
    "# Loop with tqdm\n",
    "for lat in tqdm(lats, desc=\"Latitude tiles\"):\n",
    "    for lon in lons:\n",
    "        bbox = (lat + step, lat, lon + step, lon)\n",
    "        try:\n",
    "            gdf = ox.features_from_bbox(bbox=bbox, tags={\"building\": True})\n",
    "            if not gdf.empty:\n",
    "                all_buildings.append(gdf)\n",
    "        except Exception as e:\n",
    "            print(f\"⚠️ Failed at tile ({lat:.4f}, {lon:.4f}): {e}\")\n",
    "\n",
    "# Merge and save\n",
    "if all_buildings:\n",
    "    gdf_all = gpd.GeoDataFrame(pd.concat(all_buildings, ignore_index=True))\n",
    "    gdf_all.to_file(\"paris_buildings.gpkg\", driver=\"GPKG\")\n",
    "    print(\"✅ Done! Saved to paris_buildings.gpkg\")\n",
    "else:\n",
    "    print(\"❌ No buildings found or all tiles failed.\")\n"
   ]
  },
  {
   "cell_type": "code",
   "execution_count": 8,
   "id": "85e50f8c-565a-49fc-bc76-f79be37732be",
   "metadata": {},
   "outputs": [
    {
     "name": "stderr",
     "output_type": "stream",
     "text": [
      "/Users/gabeiras3j/opt/anaconda3/envs/cleanproj/lib/python3.10/site-packages/osmnx/_overpass.py:267: UserWarning: This area is 9,416 times your configured Overpass max query area size. It will automatically be divided up into multiple sub-queries accordingly. This may take a long time.\n",
      "  multi_poly_proj = utils_geo._consolidate_subdivide_geometry(poly_proj)\n"
     ]
    },
    {
     "ename": "KeyboardInterrupt",
     "evalue": "",
     "output_type": "error",
     "traceback": [
      "\u001b[0;31m---------------------------------------------------------------------------\u001b[0m",
      "\u001b[0;31mKeyboardInterrupt\u001b[0m                         Traceback (most recent call last)",
      "Cell \u001b[0;32mIn[8], line 14\u001b[0m\n\u001b[1;32m     11\u001b[0m tags \u001b[38;5;241m=\u001b[39m {\u001b[38;5;124m\"\u001b[39m\u001b[38;5;124mbuilding\u001b[39m\u001b[38;5;124m\"\u001b[39m: \u001b[38;5;28;01mTrue\u001b[39;00m}\n\u001b[1;32m     13\u001b[0m \u001b[38;5;66;03m# Retrieve building footprints within the bounding box\u001b[39;00m\n\u001b[0;32m---> 14\u001b[0m gdf \u001b[38;5;241m=\u001b[39m \u001b[43mox\u001b[49m\u001b[38;5;241;43m.\u001b[39;49m\u001b[43mfeatures_from_bbox\u001b[49m\u001b[43m(\u001b[49m\u001b[43mbbox\u001b[49m\u001b[38;5;241;43m=\u001b[39;49m\u001b[43mbbox\u001b[49m\u001b[43m,\u001b[49m\u001b[43m \u001b[49m\u001b[43mtags\u001b[49m\u001b[38;5;241;43m=\u001b[39;49m\u001b[43mtags\u001b[49m\u001b[43m)\u001b[49m\n\u001b[1;32m     16\u001b[0m \u001b[38;5;66;03m# Save to GeoPackage\u001b[39;00m\n\u001b[1;32m     17\u001b[0m gdf\u001b[38;5;241m.\u001b[39mto_file(\u001b[38;5;124m\"\u001b[39m\u001b[38;5;124mparis_buildings.gpkg\u001b[39m\u001b[38;5;124m\"\u001b[39m, driver\u001b[38;5;241m=\u001b[39m\u001b[38;5;124m\"\u001b[39m\u001b[38;5;124mGPKG\u001b[39m\u001b[38;5;124m\"\u001b[39m)\n",
      "File \u001b[0;32m~/opt/anaconda3/envs/cleanproj/lib/python3.10/site-packages/osmnx/features.py:130\u001b[0m, in \u001b[0;36mfeatures_from_bbox\u001b[0;34m(bbox, tags)\u001b[0m\n\u001b[1;32m    128\u001b[0m \u001b[38;5;66;03m# convert bbox to polygon then create GeoDataFrame of features within it\u001b[39;00m\n\u001b[1;32m    129\u001b[0m polygon \u001b[38;5;241m=\u001b[39m utils_geo\u001b[38;5;241m.\u001b[39mbbox_to_poly(bbox)\n\u001b[0;32m--> 130\u001b[0m \u001b[38;5;28;01mreturn\u001b[39;00m \u001b[43mfeatures_from_polygon\u001b[49m\u001b[43m(\u001b[49m\u001b[43mpolygon\u001b[49m\u001b[43m,\u001b[49m\u001b[43m \u001b[49m\u001b[43mtags\u001b[49m\u001b[43m)\u001b[49m\n",
      "File \u001b[0;32m~/opt/anaconda3/envs/cleanproj/lib/python3.10/site-packages/osmnx/features.py:332\u001b[0m, in \u001b[0;36mfeatures_from_polygon\u001b[0;34m(polygon, tags)\u001b[0m\n\u001b[1;32m    330\u001b[0m \u001b[38;5;66;03m# retrieve the data from Overpass then turn it into a GeoDataFrame\u001b[39;00m\n\u001b[1;32m    331\u001b[0m response_jsons \u001b[38;5;241m=\u001b[39m _overpass\u001b[38;5;241m.\u001b[39m_download_overpass_features(polygon, tags)\n\u001b[0;32m--> 332\u001b[0m \u001b[38;5;28;01mreturn\u001b[39;00m \u001b[43m_create_gdf\u001b[49m\u001b[43m(\u001b[49m\u001b[43mresponse_jsons\u001b[49m\u001b[43m,\u001b[49m\u001b[43m \u001b[49m\u001b[43mpolygon\u001b[49m\u001b[43m,\u001b[49m\u001b[43m \u001b[49m\u001b[43mtags\u001b[49m\u001b[43m)\u001b[49m\n",
      "File \u001b[0;32m~/opt/anaconda3/envs/cleanproj/lib/python3.10/site-packages/osmnx/features.py:406\u001b[0m, in \u001b[0;36m_create_gdf\u001b[0;34m(response_jsons, polygon, tags)\u001b[0m\n\u001b[1;32m    404\u001b[0m elements \u001b[38;5;241m=\u001b[39m []\n\u001b[1;32m    405\u001b[0m response_count \u001b[38;5;241m=\u001b[39m \u001b[38;5;241m0\u001b[39m\n\u001b[0;32m--> 406\u001b[0m \u001b[38;5;28;01mfor\u001b[39;00m response_json \u001b[38;5;129;01min\u001b[39;00m response_jsons:\n\u001b[1;32m    407\u001b[0m     response_count \u001b[38;5;241m+\u001b[39m\u001b[38;5;241m=\u001b[39m \u001b[38;5;241m1\u001b[39m\n\u001b[1;32m    408\u001b[0m     \u001b[38;5;28;01mif\u001b[39;00m \u001b[38;5;129;01mnot\u001b[39;00m settings\u001b[38;5;241m.\u001b[39mcache_only_mode:\n",
      "File \u001b[0;32m~/opt/anaconda3/envs/cleanproj/lib/python3.10/site-packages/osmnx/_overpass.py:428\u001b[0m, in \u001b[0;36m_download_overpass_features\u001b[0;34m(polygon, tags)\u001b[0m\n\u001b[1;32m    426\u001b[0m \u001b[38;5;28;01mfor\u001b[39;00m polygon_coord_str \u001b[38;5;129;01min\u001b[39;00m polygon_coord_strs:\n\u001b[1;32m    427\u001b[0m     query_str \u001b[38;5;241m=\u001b[39m _create_overpass_features_query(polygon_coord_str, tags)\n\u001b[0;32m--> 428\u001b[0m     \u001b[38;5;28;01myield\u001b[39;00m \u001b[43m_overpass_request\u001b[49m\u001b[43m(\u001b[49m\u001b[43mOrderedDict\u001b[49m\u001b[43m(\u001b[49m\u001b[43mdata\u001b[49m\u001b[38;5;241;43m=\u001b[39;49m\u001b[43mquery_str\u001b[49m\u001b[43m)\u001b[49m\u001b[43m)\u001b[49m\n",
      "File \u001b[0;32m~/opt/anaconda3/envs/cleanproj/lib/python3.10/site-packages/osmnx/_overpass.py:460\u001b[0m, in \u001b[0;36m_overpass_request\u001b[0;34m(data)\u001b[0m\n\u001b[1;32m    458\u001b[0m msg \u001b[38;5;241m=\u001b[39m \u001b[38;5;124mf\u001b[39m\u001b[38;5;124m\"\u001b[39m\u001b[38;5;124mPausing \u001b[39m\u001b[38;5;132;01m{\u001b[39;00mpause\u001b[38;5;132;01m}\u001b[39;00m\u001b[38;5;124m second(s) before making HTTP POST request to \u001b[39m\u001b[38;5;132;01m{\u001b[39;00mhostname\u001b[38;5;132;01m!r}\u001b[39;00m\u001b[38;5;124m\"\u001b[39m\n\u001b[1;32m    459\u001b[0m utils\u001b[38;5;241m.\u001b[39mlog(msg, level\u001b[38;5;241m=\u001b[39mlg\u001b[38;5;241m.\u001b[39mINFO)\n\u001b[0;32m--> 460\u001b[0m \u001b[43mtime\u001b[49m\u001b[38;5;241;43m.\u001b[39;49m\u001b[43msleep\u001b[49m\u001b[43m(\u001b[49m\u001b[43mpause\u001b[49m\u001b[43m)\u001b[49m\n\u001b[1;32m    462\u001b[0m \u001b[38;5;66;03m# transmit the HTTP POST request\u001b[39;00m\n\u001b[1;32m    463\u001b[0m msg \u001b[38;5;241m=\u001b[39m \u001b[38;5;124mf\u001b[39m\u001b[38;5;124m\"\u001b[39m\u001b[38;5;124mPost \u001b[39m\u001b[38;5;132;01m{\u001b[39;00mprepared_url\u001b[38;5;132;01m}\u001b[39;00m\u001b[38;5;124m with timeout=\u001b[39m\u001b[38;5;132;01m{\u001b[39;00msettings\u001b[38;5;241m.\u001b[39mrequests_timeout\u001b[38;5;132;01m}\u001b[39;00m\u001b[38;5;124m\"\u001b[39m\n",
      "\u001b[0;31mKeyboardInterrupt\u001b[0m: "
     ]
    }
   ],
   "source": [
    "import osmnx as ox\n",
    "\n",
    "# Define bounding box for the area in Paris\n",
    "north = 48.865924303683215\n",
    "south = 48.85196374476617\n",
    "west = 2.326650288914438\n",
    "east = 2.3448515182972\n",
    "bbox = (north, south, east, west)\n",
    "\n",
    "# Define the tag for OSM buildings\n",
    "tags = {\"building\": True}\n",
    "\n",
    "# Retrieve building footprints within the bounding box\n",
    "gdf = ox.features_from_bbox(bbox=bbox, tags=tags)\n",
    "\n",
    "# Save to GeoPackage\n",
    "gdf.to_file(\"paris_buildings.gpkg\", driver=\"GPKG\")\n",
    "print(\"✅ Done! Exported to paris_buildings.gpkg\")\n"
   ]
  },
  {
   "cell_type": "code",
   "execution_count": 3,
   "id": "c302c877-4158-46e9-8b64-7b2de6ef4d44",
   "metadata": {},
   "outputs": [
    {
     "name": "stdout",
     "output_type": "stream",
     "text": [
      "2.0.2\n"
     ]
    }
   ],
   "source": [
    "import osmnx as ox\n",
    "print(ox.__version__)\n"
   ]
  },
  {
   "cell_type": "code",
   "execution_count": null,
   "id": "c6c91df1-c5fe-4fab-b991-f489014cfac3",
   "metadata": {},
   "outputs": [],
   "source": []
  }
 ],
 "metadata": {
  "kernelspec": {
   "display_name": "Python 3 (ipykernel)",
   "language": "python",
   "name": "python3"
  },
  "language_info": {
   "codemirror_mode": {
    "name": "ipython",
    "version": 3
   },
   "file_extension": ".py",
   "mimetype": "text/x-python",
   "name": "python",
   "nbconvert_exporter": "python",
   "pygments_lexer": "ipython3",
   "version": "3.9.20"
  }
 },
 "nbformat": 4,
 "nbformat_minor": 5
}
