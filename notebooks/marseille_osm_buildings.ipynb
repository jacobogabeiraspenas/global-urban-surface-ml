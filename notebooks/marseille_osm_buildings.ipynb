{
 "cells": [
  {
   "cell_type": "code",
   "execution_count": 1,
   "id": "a9ee10a6-07c7-4327-a34b-7f966cd6394b",
   "metadata": {},
   "outputs": [
    {
     "name": "stdout",
     "output_type": "stream",
     "text": [
      "⏳ Downloading OSM data for Marseille...\n",
      "🔄 Converting to GeoJSON...\n",
      "🧼 Fixing invalid geometries...\n",
      "🔗 Merging all building shapes...\n",
      "✅ Done! Merged 366129 buildings into 135819 shapes.\n",
      "📦 Saved to: marseille_buildings_merged.gpkg\n"
     ]
    }
   ],
   "source": [
    "import requests\n",
    "import geopandas as gpd\n",
    "from shapely.geometry import MultiPolygon\n",
    "from shapely.ops import unary_union\n",
    "import osm2geojson  # pip install osm2geojson\n",
    "\n",
    "# Define bounding box\n",
    "north, south = 43.40011413701851, 43.15154808326906\n",
    "west, east = 5.228894338539561, 5.565061518831354\n",
    "\n",
    "# Overpass query: buildings as ways and relations\n",
    "overpass_url = \"https://overpass-api.de/api/interpreter\"\n",
    "query = f\"\"\"\n",
    "[out:json][timeout:180];\n",
    "(\n",
    "  way[\"building\"]({south},{west},{north},{east});\n",
    "  relation[\"building\"]({south},{west},{north},{east});\n",
    ");\n",
    "out body;\n",
    ">;\n",
    "out skel qt;\n",
    "\"\"\"\n",
    "\n",
    "# Request OSM data\n",
    "print(\"⏳ Downloading OSM data for Marseille...\")\n",
    "response = requests.get(overpass_url, params={\"data\": query})\n",
    "data = response.json()\n",
    "\n",
    "# Convert to GeoJSON\n",
    "print(\"🔄 Converting to GeoJSON...\")\n",
    "geojson = osm2geojson.json2geojson(data)\n",
    "\n",
    "# Load into GeoDataFrame\n",
    "gdf = gpd.GeoDataFrame.from_features(geojson[\"features\"])\n",
    "gdf.set_crs(\"EPSG:4326\", inplace=True)\n",
    "\n",
    "# Clean geometries\n",
    "print(\"🧼 Fixing invalid geometries...\")\n",
    "gdf[\"geometry\"] = gdf[\"geometry\"].buffer(0)\n",
    "\n",
    "# Merge all geometries into blocks\n",
    "print(\"🔗 Merging all building shapes...\")\n",
    "merged = unary_union(gdf[\"geometry\"])\n",
    "\n",
    "# Create final GeoDataFrame\n",
    "if isinstance(merged, MultiPolygon):\n",
    "    merged_gdf = gpd.GeoDataFrame(geometry=list(merged.geoms), crs=gdf.crs)\n",
    "else:\n",
    "    merged_gdf = gpd.GeoDataFrame(geometry=[merged], crs=gdf.crs)\n",
    "\n",
    "# Save result\n",
    "output_file = \"marseille_buildings_merged.gpkg\"\n",
    "merged_gdf.to_file(output_file, driver=\"GPKG\")\n",
    "\n",
    "print(f\"✅ Done! Merged {len(gdf)} buildings into {len(merged_gdf)} shapes.\")\n",
    "print(f\"📦 Saved to: {output_file}\")\n"
   ]
  },
  {
   "cell_type": "code",
   "execution_count": null,
   "id": "5e3fb0de-d597-4869-9e57-c29494d9091c",
   "metadata": {},
   "outputs": [],
   "source": []
  }
 ],
 "metadata": {
  "kernelspec": {
   "display_name": "Python 3 (ipykernel)",
   "language": "python",
   "name": "python3"
  },
  "language_info": {
   "codemirror_mode": {
    "name": "ipython",
    "version": 3
   },
   "file_extension": ".py",
   "mimetype": "text/x-python",
   "name": "python",
   "nbconvert_exporter": "python",
   "pygments_lexer": "ipython3",
   "version": "3.9.20"
  }
 },
 "nbformat": 4,
 "nbformat_minor": 5
}
