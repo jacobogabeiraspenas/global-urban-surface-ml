{
 "cells": [
  {
   "cell_type": "code",
   "execution_count": 1,
   "id": "fbe87600-90ee-4048-b604-d9dfb8693a8e",
   "metadata": {},
   "outputs": [
    {
     "name": "stdout",
     "output_type": "stream",
     "text": [
      "⏳ Downloading OSM data for Grenoble...\n",
      "🔄 Converting to GeoJSON...\n",
      "🧼 Cleaning geometries...\n",
      "🔗 Merging building footprints...\n"
     ]
    },
    {
     "name": "stderr",
     "output_type": "stream",
     "text": [
      "/Users/gabeiras3j/opt/anaconda3/envs/cleanproj/lib/python3.10/site-packages/shapely/set_operations.py:543: RuntimeWarning: invalid value encountered in create_collection\n",
      "  collections = lib.create_collection(\n"
     ]
    },
    {
     "name": "stdout",
     "output_type": "stream",
     "text": [
      "✅ Done! Merged 240916 buildings into 140809 final blocks.\n",
      "📦 Output saved to: grenoble_buildings_merged.gpkg\n"
     ]
    }
   ],
   "source": [
    "import requests\n",
    "import geopandas as gpd\n",
    "from shapely.geometry import MultiPolygon\n",
    "from shapely.ops import unary_union\n",
    "import osm2geojson  # pip install osm2geojson\n",
    "\n",
    "# Grenoble bounding box\n",
    "north, south = 45.36962853982034, 45.04131660493893\n",
    "west, east = 5.484539716781988, 5.9934400014814155\n",
    "\n",
    "# Overpass query for building ways + relations\n",
    "overpass_url = \"https://overpass-api.de/api/interpreter\"\n",
    "query = f\"\"\"\n",
    "[out:json][timeout:180];\n",
    "(\n",
    "  way[\"building\"]({south},{west},{north},{east});\n",
    "  relation[\"building\"]({south},{west},{north},{east});\n",
    ");\n",
    "out body;\n",
    ">;\n",
    "out skel qt;\n",
    "\"\"\"\n",
    "\n",
    "# Send the Overpass request\n",
    "print(\"⏳ Downloading OSM data for Grenoble...\")\n",
    "response = requests.get(overpass_url, params={\"data\": query})\n",
    "data = response.json()\n",
    "\n",
    "# Convert to GeoJSON (handles relations)\n",
    "print(\"🔄 Converting to GeoJSON...\")\n",
    "geojson = osm2geojson.json2geojson(data)\n",
    "\n",
    "# Load into GeoDataFrame\n",
    "gdf = gpd.GeoDataFrame.from_features(geojson[\"features\"])\n",
    "gdf.set_crs(\"EPSG:4326\", inplace=True)\n",
    "\n",
    "# Clean invalid geometries\n",
    "print(\"🧼 Cleaning geometries...\")\n",
    "gdf[\"geometry\"] = gdf[\"geometry\"].buffer(0)\n",
    "\n",
    "# Merge all overlapping/touching buildings\n",
    "print(\"🔗 Merging building footprints...\")\n",
    "merged = unary_union(gdf[\"geometry\"])\n",
    "\n",
    "# Create output GeoDataFrame\n",
    "if isinstance(merged, MultiPolygon):\n",
    "    merged_gdf = gpd.GeoDataFrame(geometry=list(merged.geoms), crs=gdf.crs)\n",
    "else:\n",
    "    merged_gdf = gpd.GeoDataFrame(geometry=[merged], crs=gdf.crs)\n",
    "\n",
    "# Save to file\n",
    "output_file = \"grenoble_buildings_merged.gpkg\"\n",
    "merged_gdf.to_file(output_file, driver=\"GPKG\")\n",
    "\n",
    "print(f\"✅ Done! Merged {len(gdf)} buildings into {len(merged_gdf)} final blocks.\")\n",
    "print(f\"📦 Output saved to: {output_file}\")\n"
   ]
  },
  {
   "cell_type": "code",
   "execution_count": null,
   "id": "6b907be6-fa27-496a-86c5-4765a0d4d487",
   "metadata": {},
   "outputs": [],
   "source": []
  }
 ],
 "metadata": {
  "kernelspec": {
   "display_name": "Python 3 (ipykernel)",
   "language": "python",
   "name": "python3"
  },
  "language_info": {
   "codemirror_mode": {
    "name": "ipython",
    "version": 3
   },
   "file_extension": ".py",
   "mimetype": "text/x-python",
   "name": "python",
   "nbconvert_exporter": "python",
   "pygments_lexer": "ipython3",
   "version": "3.9.20"
  }
 },
 "nbformat": 4,
 "nbformat_minor": 5
}
