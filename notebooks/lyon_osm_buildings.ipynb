{
 "cells": [
  {
   "cell_type": "code",
   "execution_count": 1,
   "id": "424410a5-c908-4125-8b45-fa9a1d09bdbc",
   "metadata": {},
   "outputs": [
    {
     "name": "stdout",
     "output_type": "stream",
     "text": [
      "⏳ Downloading OSM data for Lyon...\n",
      "🔄 Converting to GeoJSON...\n",
      "🧼 Cleaning geometries...\n",
      "🔗 Merging all buildings...\n"
     ]
    },
    {
     "name": "stderr",
     "output_type": "stream",
     "text": [
      "/Users/gabeiras3j/opt/anaconda3/envs/cleanproj/lib/python3.10/site-packages/shapely/set_operations.py:543: RuntimeWarning: invalid value encountered in create_collection\n",
      "  collections = lib.create_collection(\n"
     ]
    },
    {
     "name": "stdout",
     "output_type": "stream",
     "text": [
      "✅ Done! Merged 345334 buildings into 180053 shapes.\n",
      "📦 Saved to: lyon_buildings_merged.gpkg\n"
     ]
    }
   ],
   "source": [
    "import requests\n",
    "import geopandas as gpd\n",
    "from shapely.geometry import MultiPolygon\n",
    "from shapely.ops import unary_union\n",
    "import osm2geojson  # pip install osm2geojson\n",
    "\n",
    "# Bounding box for Lyon\n",
    "north, south = 45.827515314683616, 45.63329334299378\n",
    "west, east = 4.720509943289811, 5.145971094584033\n",
    "\n",
    "# Overpass query: both ways and relations for buildings\n",
    "overpass_url = \"https://overpass-api.de/api/interpreter\"\n",
    "query = f\"\"\"\n",
    "[out:json][timeout:180];\n",
    "(\n",
    "  way[\"building\"]({south},{west},{north},{east});\n",
    "  relation[\"building\"]({south},{west},{north},{east});\n",
    ");\n",
    "out body;\n",
    ">;\n",
    "out skel qt;\n",
    "\"\"\"\n",
    "\n",
    "# Request the data\n",
    "print(\"⏳ Downloading OSM data for Lyon...\")\n",
    "response = requests.get(overpass_url, params={\"data\": query})\n",
    "data = response.json()\n",
    "\n",
    "# Convert OSM JSON to GeoJSON\n",
    "print(\"🔄 Converting to GeoJSON...\")\n",
    "geojson = osm2geojson.json2geojson(data)\n",
    "\n",
    "# Load into GeoDataFrame\n",
    "gdf = gpd.GeoDataFrame.from_features(geojson[\"features\"])\n",
    "gdf.set_crs(\"EPSG:4326\", inplace=True)\n",
    "\n",
    "# Fix any invalid geometries\n",
    "print(\"🧼 Cleaning geometries...\")\n",
    "gdf[\"geometry\"] = gdf[\"geometry\"].buffer(0)\n",
    "\n",
    "# Merge all building geometries\n",
    "print(\"🔗 Merging all buildings...\")\n",
    "merged = unary_union(gdf[\"geometry\"])\n",
    "\n",
    "# Wrap in GeoDataFrame\n",
    "if isinstance(merged, MultiPolygon):\n",
    "    merged_gdf = gpd.GeoDataFrame(geometry=list(merged.geoms), crs=gdf.crs)\n",
    "else:\n",
    "    merged_gdf = gpd.GeoDataFrame(geometry=[merged], crs=gdf.crs)\n",
    "\n",
    "# Save to file\n",
    "output_file = \"lyon_buildings_merged.gpkg\"\n",
    "merged_gdf.to_file(output_file, driver=\"GPKG\")\n",
    "\n",
    "print(f\"✅ Done! Merged {len(gdf)} buildings into {len(merged_gdf)} shapes.\")\n",
    "print(f\"📦 Saved to: {output_file}\")\n"
   ]
  },
  {
   "cell_type": "code",
   "execution_count": null,
   "id": "d62b1c5c-2868-4564-9f9d-312cb91598d7",
   "metadata": {},
   "outputs": [],
   "source": []
  }
 ],
 "metadata": {
  "kernelspec": {
   "display_name": "Python 3 (ipykernel)",
   "language": "python",
   "name": "python3"
  },
  "language_info": {
   "codemirror_mode": {
    "name": "ipython",
    "version": 3
   },
   "file_extension": ".py",
   "mimetype": "text/x-python",
   "name": "python",
   "nbconvert_exporter": "python",
   "pygments_lexer": "ipython3",
   "version": "3.9.20"
  }
 },
 "nbformat": 4,
 "nbformat_minor": 5
}
