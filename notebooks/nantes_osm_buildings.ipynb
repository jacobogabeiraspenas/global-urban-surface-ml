{
 "cells": [
  {
   "cell_type": "code",
   "execution_count": 1,
   "id": "bd8d2062-341b-41d6-8a65-6992f36918cb",
   "metadata": {},
   "outputs": [
    {
     "name": "stdout",
     "output_type": "stream",
     "text": [
      "⏳ Downloading OSM data for Nantes...\n",
      "🔄 Converting to GeoJSON...\n",
      "🧼 Cleaning invalid geometries...\n",
      "🔗 Merging geometries...\n",
      "✅ Done! Merged 197516 buildings into 95466 blocks.\n",
      "📦 Output saved to: nantes_buildings_merged.gpkg\n"
     ]
    }
   ],
   "source": [
    "import requests\n",
    "import geopandas as gpd\n",
    "from shapely.geometry import MultiPolygon\n",
    "from shapely.ops import unary_union\n",
    "import osm2geojson  # pip install osm2geojson\n",
    "\n",
    "# Bounding box for Nantes\n",
    "north, south = 47.298354021640314, 47.17104668835133\n",
    "west, east = -1.6681752121847566, -1.4480483659767052\n",
    "\n",
    "# Overpass query for buildings (ways + relations)\n",
    "overpass_url = \"https://overpass-api.de/api/interpreter\"\n",
    "query = f\"\"\"\n",
    "[out:json][timeout:180];\n",
    "(\n",
    "  way[\"building\"]({south},{west},{north},{east});\n",
    "  relation[\"building\"]({south},{west},{north},{east});\n",
    ");\n",
    "out body;\n",
    ">;\n",
    "out skel qt;\n",
    "\"\"\"\n",
    "\n",
    "# Request OSM data\n",
    "print(\"⏳ Downloading OSM data for Nantes...\")\n",
    "response = requests.get(overpass_url, params={\"data\": query})\n",
    "data = response.json()\n",
    "\n",
    "# Convert to GeoJSON format\n",
    "print(\"🔄 Converting to GeoJSON...\")\n",
    "geojson = osm2geojson.json2geojson(data)\n",
    "\n",
    "# Load into GeoDataFrame\n",
    "gdf = gpd.GeoDataFrame.from_features(geojson[\"features\"])\n",
    "gdf.set_crs(\"EPSG:4326\", inplace=True)\n",
    "\n",
    "# Fix any invalid geometries\n",
    "print(\"🧼 Cleaning invalid geometries...\")\n",
    "gdf[\"geometry\"] = gdf[\"geometry\"].buffer(0)\n",
    "\n",
    "# Merge all touching/overlapping geometries\n",
    "print(\"🔗 Merging geometries...\")\n",
    "merged = unary_union(gdf[\"geometry\"])\n",
    "\n",
    "# Wrap into GeoDataFrame\n",
    "if isinstance(merged, MultiPolygon):\n",
    "    merged_gdf = gpd.GeoDataFrame(geometry=list(merged.geoms), crs=gdf.crs)\n",
    "else:\n",
    "    merged_gdf = gpd.GeoDataFrame(geometry=[merged], crs=gdf.crs)\n",
    "\n",
    "# Save result\n",
    "output_file = \"nantes_buildings_merged.gpkg\"\n",
    "merged_gdf.to_file(output_file, driver=\"GPKG\")\n",
    "\n",
    "print(f\"✅ Done! Merged {len(gdf)} buildings into {len(merged_gdf)} blocks.\")\n",
    "print(f\"📦 Output saved to: {output_file}\")\n"
   ]
  },
  {
   "cell_type": "code",
   "execution_count": null,
   "id": "4e9991b9-60ed-49e9-9175-cea908ef609d",
   "metadata": {},
   "outputs": [],
   "source": []
  }
 ],
 "metadata": {
  "kernelspec": {
   "display_name": "Python 3 (ipykernel)",
   "language": "python",
   "name": "python3"
  },
  "language_info": {
   "codemirror_mode": {
    "name": "ipython",
    "version": 3
   },
   "file_extension": ".py",
   "mimetype": "text/x-python",
   "name": "python",
   "nbconvert_exporter": "python",
   "pygments_lexer": "ipython3",
   "version": "3.9.20"
  }
 },
 "nbformat": 4,
 "nbformat_minor": 5
}
