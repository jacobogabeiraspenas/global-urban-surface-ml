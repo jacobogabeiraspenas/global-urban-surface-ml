{
 "cells": [
  {
   "cell_type": "code",
   "execution_count": 1,
   "id": "74cf4a6e-f47d-46f6-8815-bfcf955b5765",
   "metadata": {},
   "outputs": [
    {
     "name": "stdout",
     "output_type": "stream",
     "text": [
      "⏳ Downloading OSM data for Toulouse...\n",
      "🔄 Converting to GeoJSON...\n",
      "🧼 Cleaning geometries...\n",
      "🔗 Merging all buildings...\n"
     ]
    },
    {
     "name": "stderr",
     "output_type": "stream",
     "text": [
      "/Users/gabeiras3j/opt/anaconda3/envs/cleanproj/lib/python3.10/site-packages/shapely/set_operations.py:543: RuntimeWarning: invalid value encountered in create_collection\n",
      "  collections = lib.create_collection(\n"
     ]
    },
    {
     "name": "stdout",
     "output_type": "stream",
     "text": [
      "✅ Done! Merged 321242 buildings into 145005 merged blocks.\n",
      "📦 Saved to: toulouse_buildings_merged.gpkg\n"
     ]
    }
   ],
   "source": [
    "import requests\n",
    "import geopandas as gpd\n",
    "from shapely.geometry import MultiPolygon\n",
    "from shapely.ops import unary_union\n",
    "import osm2geojson  # pip install osm2geojson\n",
    "\n",
    "# Bounding box for Toulouse\n",
    "north, south = 43.67795458910826, 43.525655844942015\n",
    "west, east = 1.2916778177119257, 1.5582214923841673\n",
    "\n",
    "# Overpass API query\n",
    "overpass_url = \"https://overpass-api.de/api/interpreter\"\n",
    "query = f\"\"\"\n",
    "[out:json][timeout:180];\n",
    "(\n",
    "  way[\"building\"]({south},{west},{north},{east});\n",
    "  relation[\"building\"]({south},{west},{north},{east});\n",
    ");\n",
    "out body;\n",
    ">;\n",
    "out skel qt;\n",
    "\"\"\"\n",
    "\n",
    "# Fetch data\n",
    "print(\"⏳ Downloading OSM data for Toulouse...\")\n",
    "response = requests.get(overpass_url, params={\"data\": query})\n",
    "data = response.json()\n",
    "\n",
    "# Convert raw OSM to GeoJSON format\n",
    "print(\"🔄 Converting to GeoJSON...\")\n",
    "geojson = osm2geojson.json2geojson(data)\n",
    "\n",
    "# Load into GeoDataFrame\n",
    "gdf = gpd.GeoDataFrame.from_features(geojson[\"features\"])\n",
    "gdf.set_crs(\"EPSG:4326\", inplace=True)\n",
    "\n",
    "# Fix invalid geometries\n",
    "print(\"🧼 Cleaning geometries...\")\n",
    "gdf[\"geometry\"] = gdf[\"geometry\"].buffer(0)\n",
    "\n",
    "# Merge overlapping/touching buildings\n",
    "print(\"🔗 Merging all buildings...\")\n",
    "merged = unary_union(gdf[\"geometry\"])\n",
    "\n",
    "# Wrap as GeoDataFrame\n",
    "if isinstance(merged, MultiPolygon):\n",
    "    merged_gdf = gpd.GeoDataFrame(geometry=list(merged.geoms), crs=gdf.crs)\n",
    "else:\n",
    "    merged_gdf = gpd.GeoDataFrame(geometry=[merged], crs=gdf.crs)\n",
    "\n",
    "# Save to GeoPackage\n",
    "output_file = \"toulouse_buildings_merged.gpkg\"\n",
    "merged_gdf.to_file(output_file, driver=\"GPKG\")\n",
    "\n",
    "print(f\"✅ Done! Merged {len(gdf)} buildings into {len(merged_gdf)} merged blocks.\")\n",
    "print(f\"📦 Saved to: {output_file}\")\n"
   ]
  },
  {
   "cell_type": "code",
   "execution_count": null,
   "id": "cfb039b6-1179-41ef-87f5-165293991e8e",
   "metadata": {},
   "outputs": [],
   "source": []
  }
 ],
 "metadata": {
  "kernelspec": {
   "display_name": "Python 3 (ipykernel)",
   "language": "python",
   "name": "python3"
  },
  "language_info": {
   "codemirror_mode": {
    "name": "ipython",
    "version": 3
   },
   "file_extension": ".py",
   "mimetype": "text/x-python",
   "name": "python",
   "nbconvert_exporter": "python",
   "pygments_lexer": "ipython3",
   "version": "3.9.20"
  }
 },
 "nbformat": 4,
 "nbformat_minor": 5
}
